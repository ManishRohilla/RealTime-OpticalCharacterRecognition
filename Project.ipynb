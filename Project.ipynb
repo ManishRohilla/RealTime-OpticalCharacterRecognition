{
 "cells": [
  {
   "cell_type": "code",
   "execution_count": 30,
   "metadata": {},
   "outputs": [],
   "source": [
    "import cv2 #Computer Vision Library"
   ]
  },
  {
   "cell_type": "code",
   "execution_count": 31,
   "metadata": {},
   "outputs": [],
   "source": [
    "import pytesseract #Tesseract is library used as Optical Code Reader"
   ]
  },
  {
   "cell_type": "code",
   "execution_count": 32,
   "metadata": {},
   "outputs": [],
   "source": [
    "pytesseract.pytesseract.tesseract_cmd= 'C:\\\\Program Files\\\\Tesseract-OCR\\\\tesseract.exe' \n",
    "#Location of the tesseract module installed  "
   ]
  },
  {
   "cell_type": "code",
   "execution_count": 33,
   "metadata": {},
   "outputs": [],
   "source": [
    "import googletrans #Google Translator to translate language of the Image."
   ]
  },
  {
   "cell_type": "code",
   "execution_count": 6,
   "metadata": {},
   "outputs": [],
   "source": [
    "#Location of the Image\n",
    "img=cv2.imread('C:\\\\Users\\\\Manish\\\\Desktop\\\\Manish.png') "
   ]
  },
  {
   "cell_type": "code",
   "execution_count": 34,
   "metadata": {},
   "outputs": [
    {
     "name": "stdout",
     "output_type": "stream",
     "text": [
      "The text extracted from the Image is \n",
      "\n",
      "ये जिंदगी है जनाब\n",
      "ही\n",
      "कभी रुलाएगी\n",
      "७४७)७॥\n",
      "जो खामोशी से सह गया\n",
      "वो निखर जाएगा\n",
      "जो भावनाओं में बह गया\n",
      "वो बिखर जाएगा.\n"
     ]
    }
   ],
   "source": [
    "#Extract Text data from the Image\n",
    "language='hin' #Enter Language of the text written in Image or can say training data\n",
    "mytext=pytesseract.image_to_string(img,lang=language)\n",
    "print(\"The text extracted from the Image is \\n\")\n",
    "print(mytext)"
   ]
  },
  {
   "cell_type": "code",
   "execution_count": 35,
   "metadata": {},
   "outputs": [],
   "source": [
    "#Google Translator Library Imported\n",
    "from googletrans import Translator\n",
    "translator=Translator()"
   ]
  },
  {
   "cell_type": "code",
   "execution_count": 36,
   "metadata": {},
   "outputs": [
    {
     "name": "stdout",
     "output_type": "stream",
     "text": [
      "Detected(lang=hi, confidence=1.0)\n"
     ]
    }
   ],
   "source": [
    "#Detect Language of the text\n",
    "dt1=translator.detect(mytext)\n",
    "print(dt1)"
   ]
  },
  {
   "cell_type": "code",
   "execution_count": 38,
   "metadata": {},
   "outputs": [],
   "source": [
    "from gtts import gTTS #Library of goggle Text to speech"
   ]
  },
  {
   "cell_type": "code",
   "execution_count": 39,
   "metadata": {},
   "outputs": [],
   "source": [
    "#Make Obj of the text extracted from the Image and convert it using .save() as audio\n",
    "myobj=gTTS(text=mytext,lang='hi',slow=False)\n",
    "myobj.save(\"ImageTextAudio.mp3\")"
   ]
  },
  {
   "cell_type": "code",
   "execution_count": 40,
   "metadata": {},
   "outputs": [],
   "source": [
    "#Play Audio saved\n",
    "from playsound import playsound\n",
    "playsound(\"ImageTextAudio.mp3\")"
   ]
  },
  {
   "cell_type": "code",
   "execution_count": 41,
   "metadata": {},
   "outputs": [
    {
     "name": "stdout",
     "output_type": "stream",
     "text": [
      "{'af': 'afrikaans', 'sq': 'albanian', 'am': 'amharic', 'ar': 'arabic', 'hy': 'armenian', 'az': 'azerbaijani', 'eu': 'basque', 'be': 'belarusian', 'bn': 'bengali', 'bs': 'bosnian', 'bg': 'bulgarian', 'ca': 'catalan', 'ceb': 'cebuano', 'ny': 'chichewa', 'zh-cn': 'chinese (simplified)', 'zh-tw': 'chinese (traditional)', 'co': 'corsican', 'hr': 'croatian', 'cs': 'czech', 'da': 'danish', 'nl': 'dutch', 'en': 'english', 'eo': 'esperanto', 'et': 'estonian', 'tl': 'filipino', 'fi': 'finnish', 'fr': 'french', 'fy': 'frisian', 'gl': 'galician', 'ka': 'georgian', 'de': 'german', 'el': 'greek', 'gu': 'gujarati', 'ht': 'haitian creole', 'ha': 'hausa', 'haw': 'hawaiian', 'iw': 'hebrew', 'hi': 'hindi', 'hmn': 'hmong', 'hu': 'hungarian', 'is': 'icelandic', 'ig': 'igbo', 'id': 'indonesian', 'ga': 'irish', 'it': 'italian', 'ja': 'japanese', 'jw': 'javanese', 'kn': 'kannada', 'kk': 'kazakh', 'km': 'khmer', 'ko': 'korean', 'ku': 'kurdish (kurmanji)', 'ky': 'kyrgyz', 'lo': 'lao', 'la': 'latin', 'lv': 'latvian', 'lt': 'lithuanian', 'lb': 'luxembourgish', 'mk': 'macedonian', 'mg': 'malagasy', 'ms': 'malay', 'ml': 'malayalam', 'mt': 'maltese', 'mi': 'maori', 'mr': 'marathi', 'mn': 'mongolian', 'my': 'myanmar (burmese)', 'ne': 'nepali', 'no': 'norwegian', 'ps': 'pashto', 'fa': 'persian', 'pl': 'polish', 'pt': 'portuguese', 'pa': 'punjabi', 'ro': 'romanian', 'ru': 'russian', 'sm': 'samoan', 'gd': 'scots gaelic', 'sr': 'serbian', 'st': 'sesotho', 'sn': 'shona', 'sd': 'sindhi', 'si': 'sinhala', 'sk': 'slovak', 'sl': 'slovenian', 'so': 'somali', 'es': 'spanish', 'su': 'sundanese', 'sw': 'swahili', 'sv': 'swedish', 'tg': 'tajik', 'ta': 'tamil', 'te': 'telugu', 'th': 'thai', 'tr': 'turkish', 'uk': 'ukrainian', 'ur': 'urdu', 'uz': 'uzbek', 'vi': 'vietnamese', 'cy': 'welsh', 'xh': 'xhosa', 'yi': 'yiddish', 'yo': 'yoruba', 'zu': 'zulu', 'fil': 'Filipino', 'he': 'Hebrew'}\n"
     ]
    }
   ],
   "source": [
    "print(googletrans.LANGUAGES)#List of Language supported by Google translator"
   ]
  },
  {
   "cell_type": "code",
   "execution_count": 42,
   "metadata": {},
   "outputs": [
    {
     "name": "stdout",
     "output_type": "stream",
     "text": [
      "That's life, sir\n",
      "Only\n",
      "Never Rulaagi\n",
      "747) 7.\n",
      "Which was co-silence\n",
      "He will sparkles\n",
      "Which were carried away\n",
      "They will be scattered.\n"
     ]
    }
   ],
   "source": [
    "#Translate text of the Image to any other language\n",
    "Translate_to='english' #Language to which you want to Translate\n",
    "translated=translator.translate(mytext,dest=Translate_to)#Dest is destination \n",
    "Translated_Text=translated.text\n",
    "print(Translated_Text)"
   ]
  },
  {
   "cell_type": "code",
   "execution_count": 43,
   "metadata": {},
   "outputs": [
    {
     "name": "stdout",
     "output_type": "stream",
     "text": [
      "Detected(lang=en, confidence=1.0)\n"
     ]
    }
   ],
   "source": [
    "#Detect Language of the text translated\n",
    "dt1=translator.detect(Translated_Text)\n",
    "print(dt1)\n",
    "#The Output will show that the langage is converted to which language"
   ]
  },
  {
   "cell_type": "code",
   "execution_count": 44,
   "metadata": {},
   "outputs": [],
   "source": [
    "myobj=gTTS(text=Translated_Text,lang='en',slow=False)\n",
    "myobj.save(\"ImageTextAudioTranslated.mp3\") "
   ]
  },
  {
   "cell_type": "code",
   "execution_count": 45,
   "metadata": {},
   "outputs": [],
   "source": [
    "from playsound import playsound\n",
    "playsound(\"ImageTextAudioTranslated.mp3\")"
   ]
  },
  {
   "cell_type": "code",
   "execution_count": 18,
   "metadata": {},
   "outputs": [],
   "source": [
    "###############################################################################################################################\n",
    "# Further Module Will take Audio as Input from the user and convert it in to any user desired language#"
   ]
  },
  {
   "cell_type": "code",
   "execution_count": 46,
   "metadata": {},
   "outputs": [],
   "source": [
    "import speech_recognition as sr #Import Speech Recognition Library\n",
    "import sys"
   ]
  },
  {
   "cell_type": "code",
   "execution_count": 20,
   "metadata": {},
   "outputs": [],
   "source": [
    "#Duration of the Audio taken as Input from the user\n",
    "duration = 5"
   ]
  },
  {
   "cell_type": "code",
   "execution_count": 47,
   "metadata": {},
   "outputs": [],
   "source": [
    "# initialize the recognizer\n",
    "r = sr.Recognizer()\n",
    "StartText=\"Please Talk your time for \"+str(duration)+\" seconds starts now \"\n",
    "ConfText=\"You Said \"\n",
    "ErrorText=\"Sorry Could not recognize your voice \"\n",
    "RecogText=\"Wait for few Seconds the system is recognizing the Input \""
   ]
  },
  {
   "cell_type": "code",
   "execution_count": 48,
   "metadata": {},
   "outputs": [],
   "source": [
    "myobj=gTTS(text=StartText,lang='en',slow=False)\n",
    "myobj.save(\"StartTextAudio.mp3\") \n",
    "myobj=gTTS(text=ConfText,lang='en',slow=False)\n",
    "myobj.save(\"ConfTextAudio.mp3\") \n",
    "myobj=gTTS(text=ErrorText,lang='en',slow=False)\n",
    "myobj.save(\"ErrorTextAudio.mp3\") \n",
    "myobj=gTTS(text=RecogText,lang='en',slow=False)\n",
    "myobj.save(\"RecogTextAudio.mp3\") \n"
   ]
  },
  {
   "cell_type": "code",
   "execution_count": 49,
   "metadata": {},
   "outputs": [],
   "source": [
    "playsound(\"StartTextAudio.mp3\")\n",
    "with sr.Microphone() as source:\n",
    "    # read the audio data from the default microphone\n",
    "    audio_data = r.record(source, duration=duration)\n",
    "    playsound(\"RecogTextAudio.mp3\")\n",
    "    try:\n",
    "        mytext1 = r.recognize_google(audio_data)\n",
    "        myobj=gTTS(text=mytext1,lang='en',slow=False)\n",
    "        myobj.save(\"UserInputAudio.mp3\") \n",
    "        playsound(\"ConfTextAudio.mp3\")\n",
    "        playsound(\"UserInputAudio.mp3\")\n",
    "    except:\n",
    "        playsound(\"ErrorTextAudio.mp3\")    # In case of voice not recognized  clearly"
   ]
  },
  {
   "cell_type": "code",
   "execution_count": 50,
   "metadata": {},
   "outputs": [
    {
     "name": "stdout",
     "output_type": "stream",
     "text": [
      "main Faridabad ka Rahane wala hun\n",
      "Detected(lang=hi, confidence=1.0)\n"
     ]
    }
   ],
   "source": [
    "#Detect Language of the text \n",
    "dt1=translator.detect(mytext1)\n",
    "print(mytext1)\n",
    "print(dt1)"
   ]
  },
  {
   "cell_type": "code",
   "execution_count": 51,
   "metadata": {},
   "outputs": [
    {
     "name": "stdout",
     "output_type": "stream",
     "text": [
      "I am a resident of Faridabad\n"
     ]
    }
   ],
   "source": [
    "#Translate text extracted from user Audio input to any other language\n",
    "import os\n",
    "Translate_to='english' #Language to which you want to Translate currently it is translated to English\n",
    "translated=translator.translate(mytext1,dest=Translate_to)#Dest is destination \n",
    "Translated_Text=translated.text\n",
    "print(Translated_Text)\n",
    "#Text will be printed after conversion"
   ]
  },
  {
   "cell_type": "code",
   "execution_count": 52,
   "metadata": {},
   "outputs": [
    {
     "name": "stdout",
     "output_type": "stream",
     "text": [
      "Detected(lang=en, confidence=1.0)\n"
     ]
    }
   ],
   "source": [
    "#Detect Language of the text translated\n",
    "dt1=translator.detect(Translated_Text)\n",
    "print(dt1)\n",
    "#The Output will show that the langage is converted to which language"
   ]
  },
  {
   "cell_type": "code",
   "execution_count": 53,
   "metadata": {},
   "outputs": [],
   "source": [
    "myobj=gTTS(text=\"After translation in \"+Translate_to+\" language the output is \",lang='en',slow=False)\n",
    "myobj.save(\"AfterTextAudio.mp3\") "
   ]
  },
  {
   "cell_type": "code",
   "execution_count": 54,
   "metadata": {},
   "outputs": [],
   "source": [
    "myobj=gTTS(text=Translated_Text,lang='en',slow=False)\n",
    "myobj.save(\"UserAudioTranslated.mp3\") "
   ]
  },
  {
   "cell_type": "code",
   "execution_count": 55,
   "metadata": {},
   "outputs": [],
   "source": [
    "playsound(\"AfterTextAudio.mp3\")\n",
    "playsound(\"UserAudioTranslated.mp3\")"
   ]
  },
  {
   "cell_type": "code",
   "execution_count": null,
   "metadata": {},
   "outputs": [],
   "source": []
  }
 ],
 "metadata": {
  "kernelspec": {
   "display_name": "Python 3",
   "language": "python",
   "name": "python3"
  },
  "language_info": {
   "codemirror_mode": {
    "name": "ipython",
    "version": 3
   },
   "file_extension": ".py",
   "mimetype": "text/x-python",
   "name": "python",
   "nbconvert_exporter": "python",
   "pygments_lexer": "ipython3",
   "version": "3.7.4"
  }
 },
 "nbformat": 4,
 "nbformat_minor": 2
}
